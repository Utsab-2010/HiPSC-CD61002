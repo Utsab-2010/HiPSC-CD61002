{
 "cells": [
  {
   "cell_type": "code",
   "execution_count": 1,
   "id": "0b6e2a89",
   "metadata": {},
   "outputs": [],
   "source": [
    "import numpy as np\n",
    "\n",
    "# Read A and B from text files\n",
    "\n",
    "A = np.loadtxt('Kmat.txt')  # Each element in a new line\n",
    "B = np.loadtxt('Fvec.txt')  # Each element in a new line\n"
   ]
  },
  {
   "cell_type": "markdown",
   "id": "04389b08",
   "metadata": {},
   "source": []
  },
  {
   "cell_type": "code",
   "execution_count": 2,
   "id": "fd43a9de",
   "metadata": {},
   "outputs": [
    {
     "data": {
      "text/plain": [
       "array([0.      , 0.      , 0.      , 0.      , 0.      , 0.      ,\n",
       "       0.      , 0.      , 0.      , 0.      , 0.      , 0.      ,\n",
       "       0.      , 0.      , 0.      , 0.      , 0.587785, 0.951057,\n",
       "       0.951057, 0.587785, 0.      , 0.      , 0.      , 0.      ,\n",
       "       0.      , 0.      , 0.      , 0.      , 0.      , 0.      ,\n",
       "       0.      , 0.      , 0.      , 0.      , 0.      , 0.      ,\n",
       "       0.      , 0.      , 0.      , 0.      , 0.      , 0.      ,\n",
       "       0.      , 0.      , 0.      ])"
      ]
     },
     "execution_count": 2,
     "metadata": {},
     "output_type": "execute_result"
    }
   ],
   "source": [
    "B"
   ]
  },
  {
   "cell_type": "code",
   "execution_count": 3,
   "id": "52c1f92f",
   "metadata": {},
   "outputs": [
    {
     "data": {
      "text/plain": [
       "2025"
      ]
     },
     "execution_count": 3,
     "metadata": {},
     "output_type": "execute_result"
    }
   ],
   "source": [
    "A.size"
   ]
  },
  {
   "cell_type": "code",
   "execution_count": 4,
   "id": "61962419",
   "metadata": {},
   "outputs": [
    {
     "data": {
      "text/plain": [
       "45"
      ]
     },
     "execution_count": 4,
     "metadata": {},
     "output_type": "execute_result"
    }
   ],
   "source": [
    "B.size"
   ]
  },
  {
   "cell_type": "code",
   "execution_count": 5,
   "id": "634f8241",
   "metadata": {},
   "outputs": [],
   "source": [
    "A = A.reshape((A.size//B.size, B.size))      # Reshape A to n x n matrix\n",
    "\n",
    "B = B.reshape((-1, 1))     # Make B a column vector\n"
   ]
  },
  {
   "cell_type": "code",
   "execution_count": 6,
   "id": "9c92f04a",
   "metadata": {},
   "outputs": [
    {
     "name": "stdout",
     "output_type": "stream",
     "text": [
      "4.3897916572629\n"
     ]
    }
   ],
   "source": [
    "eigenvalues = np.linalg.eigvals(A)\n",
    "# print(max(eigenvalues))\n",
    "spectral_radius = max(abs(eigenvalues))\n",
    "print(spectral_radius)"
   ]
  },
  {
   "cell_type": "code",
   "execution_count": 7,
   "id": "443c2b26",
   "metadata": {},
   "outputs": [
    {
     "data": {
      "text/plain": [
       "(45, 45)"
      ]
     },
     "execution_count": 7,
     "metadata": {},
     "output_type": "execute_result"
    }
   ],
   "source": [
    "A.shape"
   ]
  },
  {
   "cell_type": "code",
   "execution_count": 8,
   "id": "520b558b",
   "metadata": {},
   "outputs": [],
   "source": [
    "D = np.diag(np.diag(A))\n",
    "F = -(np.triu(A) - D)\n",
    "E = -(np.tril(A) - D)"
   ]
  },
  {
   "cell_type": "code",
   "execution_count": 9,
   "id": "5c260c57",
   "metadata": {},
   "outputs": [],
   "source": [
    "dum = D - E - F"
   ]
  },
  {
   "cell_type": "code",
   "execution_count": 10,
   "id": "0f157fc5",
   "metadata": {},
   "outputs": [
    {
     "data": {
      "text/plain": [
       "array([[1.      , 0.      , 0.      , ..., 0.      , 0.      , 0.      ],\n",
       "       [0.      , 1.      , 0.      , ..., 0.      , 0.      , 0.      ],\n",
       "       [0.      , 0.      , 1.      , ..., 0.      , 0.      , 0.      ],\n",
       "       ...,\n",
       "       [0.      , 0.      , 0.      , ..., 3.162099, 0.      , 0.      ],\n",
       "       [0.      , 0.      , 0.      , ..., 0.      , 2.764373, 0.      ],\n",
       "       [0.      , 0.      , 0.      , ..., 0.      , 0.      , 3.254533]],\n",
       "      shape=(45, 45))"
      ]
     },
     "execution_count": 10,
     "metadata": {},
     "output_type": "execute_result"
    }
   ],
   "source": [
    "dum"
   ]
  },
  {
   "cell_type": "code",
   "execution_count": 11,
   "id": "653ccbe8",
   "metadata": {},
   "outputs": [],
   "source": [
    "x = np.array([0.0]*B.size).reshape((-1, 1))  # Initial guess (column vector)"
   ]
  },
  {
   "cell_type": "code",
   "execution_count": 12,
   "id": "a699b9c2",
   "metadata": {},
   "outputs": [],
   "source": [
    "# Jacobi Method\n",
    "def jacobi(A, B, x, D, max_iterations=1000, tolerance=1e-6):\n",
    "    # N = E + F\n",
    "    M = D\n",
    "    G = np.linalg.inv(M) @ (M - A)\n",
    "    f = np.linalg.inv(M) @ B\n",
    "\n",
    "    print(\"Spectral Radius (Jacobi):\", max(abs(np.linalg.eigvals(G))))\n",
    "    print(\"Convergence rate (Jacobi):\", -np.log10(max(abs(np.linalg.eigvals(G)))))\n",
    "    for iteration in range(max_iterations):\n",
    "        x_new = G @ x + f\n",
    "        # Check for convergence\n",
    "        if np.linalg.norm(x_new - x) < tolerance:\n",
    "            print(f\"Jacobi method converged in {iteration} iterations.\")\n",
    "            return x_new\n",
    "        x = x_new"
   ]
  },
  {
   "cell_type": "code",
   "execution_count": 13,
   "id": "c3e3794f",
   "metadata": {},
   "outputs": [
    {
     "name": "stdout",
     "output_type": "stream",
     "text": [
      "Spectral Radius (Jacobi): 0.8044018490595783\n",
      "Convergence rate (Jacobi): 0.09452693977165491\n",
      "Jacobi method converged in 57 iterations.\n",
      "Jacobi Solution:\n",
      " [[0.         0.         0.         0.         0.         0.\n",
      "  0.         0.         0.         0.         0.         0.\n",
      "  0.         0.         0.         0.         0.587785   0.951057\n",
      "  0.951057   0.587785   0.19568095 0.31012929 0.30641173 0.06973009\n",
      "  0.04768256 0.05923327 0.11588741 0.51110205 0.1152182  0.26090957\n",
      "  0.02477467 0.29032074 0.02099097 0.26898277 0.11113331 0.27058333\n",
      "  0.11685724 0.03701841 0.16640158 0.50548396 0.04268072 0.16450436\n",
      "  0.50302064 0.05293072 0.04406476]]\n"
     ]
    }
   ],
   "source": [
    "jacobi_solution = jacobi(A, B, x, D)\n",
    "print(\"Jacobi Solution:\\n\", jacobi_solution.T)"
   ]
  },
  {
   "cell_type": "code",
   "execution_count": 14,
   "id": "d2ff996f",
   "metadata": {},
   "outputs": [],
   "source": [
    "# Gauss-Seidel Method\n",
    "def gauss_seidel(A, B, x, D, E, max_iterations=1000, tolerance=1e-6):\n",
    "    # N = E + F\n",
    "    M = D - E\n",
    "    G = np.linalg.inv(M) @ (M - A)\n",
    "    f = np.linalg.inv(M) @ B\n",
    "\n",
    "    print(\"Spectral Radius (Gauss-Seidel):\", max(abs(np.linalg.eigvals(G))))\n",
    "    print(\"Convergence rate (Gauss-Seidel):\", -np.log10(max(abs(np.linalg.eigvals(G)))))\n",
    "    for iteration in range(max_iterations):\n",
    "        x_new = G @ x + f\n",
    "        # Check for convergence\n",
    "        if np.linalg.norm(x_new - x) < tolerance:\n",
    "            print(f\"Gauss-Seidel method converged in {iteration} iterations.\")\n",
    "            return x_new\n",
    "        x = x_new"
   ]
  },
  {
   "cell_type": "code",
   "execution_count": 15,
   "id": "3fa0b566",
   "metadata": {},
   "outputs": [
    {
     "name": "stdout",
     "output_type": "stream",
     "text": [
      "Spectral Radius (Gauss-Seidel): 0.6523093107562862\n",
      "Convergence rate (Gauss-Seidel): 0.1855464225181087\n",
      "Gauss-Seidel method converged in 30 iterations.\n",
      "Gauss-Seidel Solution:\n",
      " [[0.         0.         0.         0.         0.         0.\n",
      "  0.         0.         0.         0.         0.         0.\n",
      "  0.         0.         0.         0.         0.587785   0.951057\n",
      "  0.951057   0.587785   0.19568141 0.31012959 0.30641207 0.0697305\n",
      "  0.04768286 0.05923364 0.11588778 0.5111024  0.11521855 0.26090975\n",
      "  0.02477488 0.29032093 0.02099115 0.26898329 0.11113385 0.27058387\n",
      "  0.11685785 0.03701874 0.16640191 0.5054843  0.04268108 0.16450471\n",
      "  0.50302096 0.05293109 0.04406509]]\n"
     ]
    }
   ],
   "source": [
    "gs_solution = gauss_seidel(A, B, x, D, E)\n",
    "print(\"Gauss-Seidel Solution:\\n\", gs_solution.T)"
   ]
  },
  {
   "cell_type": "code",
   "execution_count": 16,
   "id": "53c40954",
   "metadata": {},
   "outputs": [
    {
     "data": {
      "text/plain": [
       "np.float64(1.2332926893323357e-06)"
      ]
     },
     "execution_count": 16,
     "metadata": {},
     "output_type": "execute_result"
    }
   ],
   "source": [
    "np.linalg.norm(A @ gs_solution - B)  # Check if Ax = B"
   ]
  },
  {
   "cell_type": "code",
   "execution_count": 17,
   "id": "77d3640f",
   "metadata": {},
   "outputs": [
    {
     "data": {
      "text/plain": [
       "np.float64(2.0449489441749273e-06)"
      ]
     },
     "execution_count": 17,
     "metadata": {},
     "output_type": "execute_result"
    }
   ],
   "source": [
    "np.linalg.norm(A @ jacobi_solution - B)  # Check if Ax = B"
   ]
  },
  {
   "cell_type": "code",
   "execution_count": 18,
   "id": "ca690f4a",
   "metadata": {},
   "outputs": [],
   "source": [
    "def SOR(A, B, x, D, E, omega=1.25, max_iterations=1000, tolerance=1e-6):\n",
    "    M = (1/omega)*D - E\n",
    "    G = np.linalg.inv(M) @ (M - A)\n",
    "    f = np.linalg.inv(M) @ B\n",
    "\n",
    "    print(\"Spectral Radius (SOR):\", max(abs(np.linalg.eigvals(G))))\n",
    "    print(\"Convergence rate (SOR):\", -np.log10(max(abs(np.linalg.eigvals(G)))))\n",
    "    for iteration in range(max_iterations):\n",
    "        x_new = G @ x + f\n",
    "        # Check for convergence\n",
    "        if np.linalg.norm(x_new - x) < tolerance:\n",
    "            print(f\"SOR method converged in {iteration} iterations.\")\n",
    "            return x_new\n",
    "        x = x_new"
   ]
  },
  {
   "cell_type": "code",
   "execution_count": 19,
   "id": "4e3b693c",
   "metadata": {},
   "outputs": [],
   "source": [
    "# sor_solution = SOR(A, B, x, D, E,omega=1.9)\n",
    "# print(\"SOR Solution:\\n\", sor_solution.T)"
   ]
  },
  {
   "cell_type": "code",
   "execution_count": 20,
   "id": "721051a7",
   "metadata": {},
   "outputs": [],
   "source": [
    "w = [1.1,1.3,1.6,1.9]"
   ]
  },
  {
   "cell_type": "code",
   "execution_count": 21,
   "id": "56809423",
   "metadata": {},
   "outputs": [
    {
     "name": "stdout",
     "output_type": "stream",
     "text": [
      "Omega: 1.1\n",
      "Spectral Radius (SOR): 0.5761888063286751\n",
      "Convergence rate (SOR): 0.23943518305128317\n",
      "SOR method converged in 24 iterations.\n",
      "\n",
      "\n",
      "Omega: 1.3\n",
      "Spectral Radius (SOR): 0.3421348031973406\n",
      "Convergence rate (SOR): 0.46580274555254797\n",
      "SOR method converged in 14 iterations.\n",
      "\n",
      "\n",
      "Omega: 1.6\n",
      "Spectral Radius (SOR): 0.6272927328275757\n",
      "Convergence rate (SOR): 0.20252974372548171\n",
      "SOR method converged in 34 iterations.\n",
      "\n",
      "\n",
      "Omega: 1.9\n",
      "Spectral Radius (SOR): 0.9071840854286938\n",
      "Convergence rate (SOR): 0.04230457713627047\n",
      "SOR method converged in 174 iterations.\n",
      "\n",
      "\n"
     ]
    }
   ],
   "source": [
    "for i in w:\n",
    "    print(f\"Omega: {i}\")\n",
    "    sor_solution = SOR(A, B, x, D, E,omega=i)\n",
    "    # print(\"SOR Solution:\\n\", sor_solution.T)\n",
    "    print(\"\\n\")"
   ]
  },
  {
   "cell_type": "code",
   "execution_count": 22,
   "id": "c9767987",
   "metadata": {},
   "outputs": [],
   "source": [
    "#plotting omega vs convergence rate\n",
    "omega_values = []\n",
    "convergence_rates = []\n",
    "w = np.arange(1.0, 2.0, 0.02)\n",
    "for i in w:\n",
    "    M = (1/i)*D - E\n",
    "    G = np.linalg.inv(M) @ (M - A)\n",
    "    rho = max(abs(np.linalg.eigvals(G)))\n",
    "    omega_values.append(i)\n",
    "    convergence_rates.append(-np.log10(rho))\n"
   ]
  },
  {
   "cell_type": "code",
   "execution_count": 23,
   "id": "9d12f51c",
   "metadata": {},
   "outputs": [
    {
     "data": {
      "image/png": "[encoded data removed]",
      "text/plain": [
       "<Figure size 1000x600 with 1 Axes>"
      ]
     },
     "metadata": {},
     "output_type": "display_data"
    },
    {
     "data": {
      "text/plain": [
       "<Figure size 640x480 with 0 Axes>"
      ]
     },
     "metadata": {},
     "output_type": "display_data"
    }
   ],
   "source": [
    "import matplotlib.pyplot as plt\n",
    "figsize = (10, 6)\n",
    "plt.figure(figsize=figsize)\n",
    "plt.plot(omega_values, convergence_rates, marker='o')\n",
    "plt.title('Omega vs Convergence Rate for SOR Method')\n",
    "plt.xlabel('Omega (ω)')\n",
    "plt.ylabel('Convergence Rate (-log10(ρ))')\n",
    "plt.grid()\n",
    "plt.show()\n",
    "plt.savefig('omega_vs_convergence_rate.png')"
   ]
  },
  {
   "cell_type": "code",
   "execution_count": null,
   "id": "3bdc48e7",
   "metadata": {},
   "outputs": [],
   "source": []
  }
 ],
 "metadata": {
  "kernelspec": {
   "display_name": "IRL_AGV",
   "language": "python",
   "name": "python3"
  },
  "language_info": {
   "codemirror_mode": {
    "name": "ipython",
    "version": 3
   },
   "file_extension": ".py",
   "mimetype": "text/x-python",
   "name": "python",
   "nbconvert_exporter": "python",
   "pygments_lexer": "ipython3",
   "version": "3.10.16"
  }
 },
 "nbformat": 4,
 "nbformat_minor": 5
}
