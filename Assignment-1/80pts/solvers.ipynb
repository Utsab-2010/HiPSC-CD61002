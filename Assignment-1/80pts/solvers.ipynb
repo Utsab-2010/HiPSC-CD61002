{
 "cells": [
  {
   "cell_type": "code",
   "execution_count": 2,
   "id": "0b6e2a89",
   "metadata": {},
   "outputs": [],
   "source": [
    "import numpy as np\n",
    "\n",
    "# Read A and B from text files\n",
    "A = np.loadtxt('Kmat.txt')  # Each element in a new line\n",
    "B = np.loadtxt('Fvec.txt')  # Each element in a new line\n"
   ]
  },
  {
   "cell_type": "markdown",
   "id": "04389b08",
   "metadata": {},
   "source": []
  },
  {
   "cell_type": "code",
   "execution_count": 3,
   "id": "fd43a9de",
   "metadata": {},
   "outputs": [
    {
     "data": {
      "text/plain": [
       "array([0.      , 0.      , 0.      , 0.      , 0.      , 0.      ,\n",
       "       0.      , 0.      , 0.      , 0.      , 0.      , 0.      ,\n",
       "       0.      , 0.      , 0.      , 0.      , 0.      , 0.      ,\n",
       "       0.      , 0.      , 0.      , 0.      , 0.433883, 0.781831,\n",
       "       0.974928, 0.974928, 0.781831, 0.433883, 0.      , 0.      ,\n",
       "       0.      , 0.      , 0.      , 0.      , 0.      , 0.      ,\n",
       "       0.      , 0.      , 0.      , 0.      , 0.      , 0.      ,\n",
       "       0.      , 0.      , 0.      , 0.      , 0.      , 0.      ,\n",
       "       0.      , 0.      , 0.      , 0.      , 0.      , 0.      ,\n",
       "       0.      , 0.      , 0.      , 0.      , 0.      , 0.      ,\n",
       "       0.      , 0.      , 0.      , 0.      , 0.      , 0.      ,\n",
       "       0.      , 0.      , 0.      , 0.      , 0.      , 0.      ,\n",
       "       0.      , 0.      , 0.      , 0.      , 0.      ])"
      ]
     },
     "execution_count": 3,
     "metadata": {},
     "output_type": "execute_result"
    }
   ],
   "source": [
    "B"
   ]
  },
  {
   "cell_type": "code",
   "execution_count": 4,
   "id": "52c1f92f",
   "metadata": {},
   "outputs": [
    {
     "data": {
      "text/plain": [
       "5929"
      ]
     },
     "execution_count": 4,
     "metadata": {},
     "output_type": "execute_result"
    }
   ],
   "source": [
    "A.size"
   ]
  },
  {
   "cell_type": "code",
   "execution_count": 5,
   "id": "61962419",
   "metadata": {},
   "outputs": [
    {
     "data": {
      "text/plain": [
       "77"
      ]
     },
     "execution_count": 5,
     "metadata": {},
     "output_type": "execute_result"
    }
   ],
   "source": [
    "B.size"
   ]
  },
  {
   "cell_type": "code",
   "execution_count": 6,
   "id": "634f8241",
   "metadata": {},
   "outputs": [],
   "source": [
    "A = A.reshape((A.size//B.size, B.size))      # Reshape A to n x n matrix\n",
    "\n",
    "B = B.reshape((-1, 1))     # Make B a column vector\n"
   ]
  },
  {
   "cell_type": "code",
   "execution_count": 7,
   "id": "9c92f04a",
   "metadata": {},
   "outputs": [
    {
     "name": "stdout",
     "output_type": "stream",
     "text": [
      "4.2412107448507905\n"
     ]
    }
   ],
   "source": [
    "eigenvalues = np.linalg.eigvals(A)\n",
    "# print(max(eigenvalues))\n",
    "spectral_radius = max(abs(eigenvalues))\n",
    "print(spectral_radius)"
   ]
  },
  {
   "cell_type": "code",
   "execution_count": 8,
   "id": "443c2b26",
   "metadata": {},
   "outputs": [
    {
     "data": {
      "text/plain": [
       "(77, 77)"
      ]
     },
     "execution_count": 8,
     "metadata": {},
     "output_type": "execute_result"
    }
   ],
   "source": [
    "A.shape"
   ]
  },
  {
   "cell_type": "code",
   "execution_count": 9,
   "id": "520b558b",
   "metadata": {},
   "outputs": [],
   "source": [
    "D = np.diag(np.diag(A))\n",
    "F = -(np.triu(A) - D)\n",
    "E = -(np.tril(A) - D)"
   ]
  },
  {
   "cell_type": "code",
   "execution_count": 10,
   "id": "5c260c57",
   "metadata": {},
   "outputs": [],
   "source": [
    "dum = D - E - F"
   ]
  },
  {
   "cell_type": "code",
   "execution_count": 11,
   "id": "0f157fc5",
   "metadata": {},
   "outputs": [
    {
     "data": {
      "text/plain": [
       "array([[ 1.      ,  0.      ,  0.      , ...,  0.      ,  0.      ,\n",
       "         0.      ],\n",
       "       [ 0.      ,  1.      ,  0.      , ...,  0.      ,  0.      ,\n",
       "         0.      ],\n",
       "       [ 0.      ,  0.      ,  1.      , ...,  0.      ,  0.      ,\n",
       "         0.      ],\n",
       "       ...,\n",
       "       [ 0.      ,  0.      ,  0.      , ...,  2.881625,  0.      ,\n",
       "         0.      ],\n",
       "       [-0.357595,  0.      ,  0.      , ...,  0.      ,  2.880775,\n",
       "         0.      ],\n",
       "       [ 0.      ,  0.      , -0.399753, ...,  0.      ,  0.      ,\n",
       "         2.7692  ]], shape=(77, 77))"
      ]
     },
     "execution_count": 11,
     "metadata": {},
     "output_type": "execute_result"
    }
   ],
   "source": [
    "dum"
   ]
  },
  {
   "cell_type": "code",
   "execution_count": 12,
   "id": "653ccbe8",
   "metadata": {},
   "outputs": [],
   "source": [
    "x = np.array([0.0]*B.size).reshape((-1, 1))  # Initial guess (column vector)"
   ]
  },
  {
   "cell_type": "code",
   "execution_count": 13,
   "id": "a699b9c2",
   "metadata": {},
   "outputs": [],
   "source": [
    "# Jacobi Method\n",
    "def jacobi(A, B, x, D, max_iterations=1000, tolerance=1e-6):\n",
    "    # N = E + F\n",
    "    M = D\n",
    "    G = np.linalg.inv(M) @ (M - A)\n",
    "    f = np.linalg.inv(M) @ B\n",
    "\n",
    "    print(\"Spectral Radius (Jacobi):\", max(abs(np.linalg.eigvals(G))))\n",
    "    print(\"Convergence rate (Jacobi):\", -np.log10(max(abs(np.linalg.eigvals(G)))))\n",
    "    for iteration in range(max_iterations):\n",
    "        x_new = G @ x + f\n",
    "        # Check for convergence\n",
    "        if np.linalg.norm(x_new - x) < tolerance:\n",
    "            print(f\"Jacobi method converged in {iteration} iterations.\")\n",
    "            return x_new\n",
    "        x = x_new"
   ]
  },
  {
   "cell_type": "code",
   "execution_count": 14,
   "id": "c3e3794f",
   "metadata": {},
   "outputs": [
    {
     "name": "stdout",
     "output_type": "stream",
     "text": [
      "Spectral Radius (Jacobi): 0.8827667041161453\n",
      "Convergence rate (Jacobi): 0.05415405576788989\n",
      "Jacobi method converged in 97 iterations.\n",
      "Jacobi Solution:\n",
      " [[0.         0.         0.         0.         0.         0.\n",
      "  0.         0.         0.         0.         0.         0.\n",
      "  0.         0.         0.         0.         0.         0.\n",
      "  0.         0.         0.         0.         0.433883   0.781831\n",
      "  0.974928   0.974928   0.781831   0.433883   0.1954995  0.06609821\n",
      "  0.31122666 0.06009967 0.29775446 0.12607278 0.05803159 0.52351644\n",
      "  0.12233185 0.03853642 0.25615262 0.02749507 0.29633225 0.03957885\n",
      "  0.64964719 0.0587484  0.04460827 0.1314965  0.03066981 0.10433939\n",
      "  0.53682396 0.15399995 0.29916265 0.12158646 0.2111231  0.10155741\n",
      "  0.21954055 0.34128061 0.12628362 0.03140152 0.69175874 0.05737618\n",
      "  0.04295694 0.11660138 0.44511937 0.0690019  0.20047739 0.02455625\n",
      "  0.51592446 0.02639856 0.16696223 0.02536269 0.02162665 0.45573103\n",
      "  0.15902845 0.01341874 0.31133678 0.01564157 0.24948922]]\n"
     ]
    }
   ],
   "source": [
    "jacobi_solution = jacobi(A, B, x, D)\n",
    "print(\"Jacobi Solution:\\n\", jacobi_solution.T)"
   ]
  },
  {
   "cell_type": "code",
   "execution_count": 15,
   "id": "d2ff996f",
   "metadata": {},
   "outputs": [],
   "source": [
    "# Gauss-Seidel Method\n",
    "def gauss_seidel(A, B, x, D, E, max_iterations=1000, tolerance=1e-6):\n",
    "    # N = E + F\n",
    "    M = D - E\n",
    "    G = np.linalg.inv(M) @ (M - A)\n",
    "    f = np.linalg.inv(M) @ B\n",
    "\n",
    "    print(\"Spectral Radius (Gauss-Seidel):\", max(abs(np.linalg.eigvals(G))))\n",
    "    print(\"Convergence rate (Gauss-Seidel):\", -np.log10(max(abs(np.linalg.eigvals(G)))))\n",
    "    for iteration in range(max_iterations):\n",
    "        x_new = G @ x + f\n",
    "        # Check for convergence\n",
    "        if np.linalg.norm(x_new - x) < tolerance:\n",
    "            print(f\"Gauss-Seidel method converged in {iteration} iterations.\")\n",
    "            return x_new\n",
    "        x = x_new"
   ]
  },
  {
   "cell_type": "code",
   "execution_count": 16,
   "id": "3fa0b566",
   "metadata": {},
   "outputs": [
    {
     "name": "stdout",
     "output_type": "stream",
     "text": [
      "Spectral Radius (Gauss-Seidel): 0.7818171537241174\n",
      "Convergence rate (Gauss-Seidel): 0.10689480501402927\n",
      "Gauss-Seidel method converged in 52 iterations.\n",
      "Gauss-Seidel Solution:\n",
      " [[0.         0.         0.         0.         0.         0.\n",
      "  0.         0.         0.         0.         0.         0.\n",
      "  0.         0.         0.         0.         0.         0.\n",
      "  0.         0.         0.         0.         0.433883   0.781831\n",
      "  0.974928   0.974928   0.781831   0.433883   0.19550041 0.06609877\n",
      "  0.31122717 0.06010018 0.29775504 0.12607338 0.05803216 0.52351703\n",
      "  0.12233248 0.03853684 0.25615293 0.02749539 0.29633268 0.0395793\n",
      "  0.64964756 0.05874881 0.04460864 0.13149686 0.03067018 0.10433982\n",
      "  0.53682442 0.15400085 0.29916354 0.12158735 0.21112406 0.10155827\n",
      "  0.2195414  0.34128149 0.12628449 0.03140192 0.69175914 0.05737647\n",
      "  0.04295723 0.11660224 0.44512009 0.06900262 0.20047828 0.02455656\n",
      "  0.51592479 0.02639885 0.16696248 0.02536302 0.02162691 0.45573135\n",
      "  0.15902876 0.01341892 0.31133698 0.01564178 0.24948941]]\n"
     ]
    }
   ],
   "source": [
    "gs_solution = gauss_seidel(A, B, x, D, E)\n",
    "print(\"Gauss-Seidel Solution:\\n\", gs_solution.T)"
   ]
  },
  {
   "cell_type": "code",
   "execution_count": 17,
   "id": "53c40954",
   "metadata": {},
   "outputs": [
    {
     "data": {
      "text/plain": [
       "np.float64(1.160604294100291e-06)"
      ]
     },
     "execution_count": 17,
     "metadata": {},
     "output_type": "execute_result"
    }
   ],
   "source": [
    "np.linalg.norm(A @ gs_solution - B)  # Check if Ax = B"
   ]
  },
  {
   "cell_type": "code",
   "execution_count": 18,
   "id": "77d3640f",
   "metadata": {},
   "outputs": [
    {
     "data": {
      "text/plain": [
       "np.float64(2.2353964398768215e-06)"
      ]
     },
     "execution_count": 18,
     "metadata": {},
     "output_type": "execute_result"
    }
   ],
   "source": [
    "np.linalg.norm(A @ jacobi_solution - B)  # Check if Ax = B"
   ]
  },
  {
   "cell_type": "code",
   "execution_count": 19,
   "id": "ca690f4a",
   "metadata": {},
   "outputs": [],
   "source": [
    "def SOR(A, B, x, D, E, omega=1.25, max_iterations=1000, tolerance=1e-6):\n",
    "    M = (1/omega)*D - E\n",
    "    G = np.linalg.inv(M) @ (M - A)\n",
    "    f = np.linalg.inv(M) @ B\n",
    "\n",
    "    print(\"Spectral Radius (SOR):\", max(abs(np.linalg.eigvals(G))))\n",
    "    print(\"Convergence rate (SOR):\", -np.log10(max(abs(np.linalg.eigvals(G)))))\n",
    "    for iteration in range(max_iterations):\n",
    "        x_new = G @ x + f\n",
    "        # Check for convergence\n",
    "        if np.linalg.norm(x_new - x) < tolerance:\n",
    "            print(f\"SOR method converged in {iteration} iterations.\")\n",
    "            return x_new\n",
    "        x = x_new"
   ]
  },
  {
   "cell_type": "code",
   "execution_count": 20,
   "id": "4e3b693c",
   "metadata": {},
   "outputs": [],
   "source": [
    "# sor_solution = SOR(A, B, x, D, E,omega=1.9)\n",
    "# print(\"SOR Solution:\\n\", sor_solution.T)"
   ]
  },
  {
   "cell_type": "code",
   "execution_count": 21,
   "id": "721051a7",
   "metadata": {},
   "outputs": [],
   "source": [
    "w = [1.1,1.3,1.6,1.9]"
   ]
  },
  {
   "cell_type": "code",
   "execution_count": 23,
   "id": "56809423",
   "metadata": {},
   "outputs": [
    {
     "name": "stdout",
     "output_type": "stream",
     "text": [
      "Omega: 1.1\n",
      "Spectral Radius (SOR): 0.734153609728341\n",
      "Convergence rate (SOR): 0.13421306150394094\n",
      "SOR method converged in 42 iterations.\n",
      "\n",
      "\n",
      "Omega: 1.3\n",
      "Spectral Radius (SOR): 0.5834084375689381\n",
      "Convergence rate (SOR): 0.23402729416675067\n",
      "SOR method converged in 25 iterations.\n",
      "\n",
      "\n",
      "Omega: 1.6\n",
      "Spectral Radius (SOR): 0.631104321744642\n",
      "Convergence rate (SOR): 0.1998988458061723\n",
      "SOR method converged in 34 iterations.\n",
      "\n",
      "\n",
      "Omega: 1.9\n",
      "Spectral Radius (SOR): 0.9089808026276979\n",
      "Convergence rate (SOR): 0.04144528883622603\n",
      "SOR method converged in 171 iterations.\n",
      "\n",
      "\n"
     ]
    }
   ],
   "source": [
    "for i in w:\n",
    "    print(f\"Omega: {i}\")\n",
    "    sor_solution = SOR(A, B, x, D, E,omega=i)\n",
    "    # print(\"SOR Solution:\\n\", sor_solution.T)\n",
    "    print(\"\\n\")"
   ]
  },
  {
   "cell_type": "code",
   "execution_count": 31,
   "id": "c9767987",
   "metadata": {},
   "outputs": [],
   "source": [
    "#plotting omega vs convergence rate\n",
    "omega_values = []\n",
    "convergence_rates = []\n",
    "w = np.arange(1.0, 2.0, 0.02)\n",
    "for i in w:\n",
    "    M = (1/i)*D - E\n",
    "    G = np.linalg.inv(M) @ (M - A)\n",
    "    rho = max(abs(np.linalg.eigvals(G)))\n",
    "    omega_values.append(i)\n",
    "    convergence_rates.append(-np.log10(rho))\n"
   ]
  },
  {
   "cell_type": "code",
   "execution_count": 33,
   "id": "9d12f51c",
   "metadata": {},
   "outputs": [
    {
     "data": {
      "image/png": "[encoded data removed]",
      "text/plain": [
       "<Figure size 1000x600 with 1 Axes>"
      ]
     },
     "metadata": {},
     "output_type": "display_data"
    },
    {
     "data": {
      "text/plain": [
       "<Figure size 640x480 with 0 Axes>"
      ]
     },
     "metadata": {},
     "output_type": "display_data"
    }
   ],
   "source": [
    "import matplotlib.pyplot as plt\n",
    "figsize = (10, 6)\n",
    "plt.figure(figsize=figsize)\n",
    "plt.plot(omega_values, convergence_rates, marker='o')\n",
    "plt.title('Omega vs Convergence Rate for SOR Method')\n",
    "plt.xlabel('Omega (ω)')\n",
    "plt.ylabel('Convergence Rate (-log10(ρ))')\n",
    "plt.grid()\n",
    "plt.show()\n",
    "plt.savefig('omega_vs_convergence_rate.png')"
   ]
  },
  {
   "cell_type": "code",
   "execution_count": null,
   "id": "3bdc48e7",
   "metadata": {},
   "outputs": [],
   "source": []
  }
 ],
 "metadata": {
  "kernelspec": {
   "display_name": "IRL_AGV",
   "language": "python",
   "name": "python3"
  },
  "language_info": {
   "codemirror_mode": {
    "name": "ipython",
    "version": 3
   },
   "file_extension": ".py",
   "mimetype": "text/x-python",
   "name": "python",
   "nbconvert_exporter": "python",
   "pygments_lexer": "ipython3",
   "version": "3.10.16"
  }
 },
 "nbformat": 4,
 "nbformat_minor": 5
}
