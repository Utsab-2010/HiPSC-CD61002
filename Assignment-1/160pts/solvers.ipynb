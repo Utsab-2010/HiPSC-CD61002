{
 "cells": [
  {
   "cell_type": "code",
   "execution_count": 63,
   "id": "0b6e2a89",
   "metadata": {},
   "outputs": [],
   "source": [
    "import numpy as np\n",
    "\n",
    "# Read A and B from text files\n",
    "\n",
    "A = np.loadtxt('Kmat.txt')  # Each element in a new line\n",
    "B = np.loadtxt('Fvec.txt')  # Each element in a new line\n"
   ]
  },
  {
   "cell_type": "markdown",
   "id": "04389b08",
   "metadata": {},
   "source": []
  },
  {
   "cell_type": "code",
   "execution_count": 64,
   "id": "fd43a9de",
   "metadata": {},
   "outputs": [
    {
     "data": {
      "text/plain": [
       "array([0.      , 0.      , 0.      , 0.      , 0.      , 0.      ,\n",
       "       0.      , 0.      , 0.      , 0.      , 0.      , 0.      ,\n",
       "       0.      , 0.      , 0.      , 0.      , 0.      , 0.      ,\n",
       "       0.      , 0.      , 0.      , 0.      , 0.      , 0.      ,\n",
       "       0.      , 0.      , 0.      , 0.      , 0.      , 0.      ,\n",
       "       0.      , 0.      , 0.      , 0.      , 0.281732, 0.54064 ,\n",
       "       0.755749, 0.909632, 0.989821, 0.989821, 0.909632, 0.755749,\n",
       "       0.54064 , 0.281733, 0.      , 0.      , 0.      , 0.      ,\n",
       "       0.      , 0.      , 0.      , 0.      , 0.      , 0.      ,\n",
       "       0.      , 0.      , 0.      , 0.      , 0.      , 0.      ,\n",
       "       0.      , 0.      , 0.      , 0.      , 0.      , 0.      ,\n",
       "       0.      , 0.      , 0.      , 0.      , 0.      , 0.      ,\n",
       "       0.      , 0.      , 0.      , 0.      , 0.      , 0.      ,\n",
       "       0.      , 0.      , 0.      , 0.      , 0.      , 0.      ,\n",
       "       0.      , 0.      , 0.      , 0.      , 0.      , 0.      ,\n",
       "       0.      , 0.      , 0.      , 0.      , 0.      , 0.      ,\n",
       "       0.      , 0.      , 0.      , 0.      , 0.      , 0.      ,\n",
       "       0.      , 0.      , 0.      , 0.      , 0.      , 0.      ,\n",
       "       0.      , 0.      , 0.      , 0.      , 0.      , 0.      ,\n",
       "       0.      , 0.      , 0.      , 0.      , 0.      , 0.      ,\n",
       "       0.      , 0.      , 0.      , 0.      , 0.      , 0.      ,\n",
       "       0.      , 0.      , 0.      , 0.      , 0.      , 0.      ,\n",
       "       0.      , 0.      , 0.      , 0.      , 0.      , 0.      ,\n",
       "       0.      , 0.      , 0.      , 0.      , 0.      , 0.      ,\n",
       "       0.      , 0.      , 0.      , 0.      , 0.      , 0.      ,\n",
       "       0.      , 0.      , 0.      , 0.      , 0.      , 0.      ,\n",
       "       0.      , 0.      , 0.      , 0.      , 0.      , 0.      ,\n",
       "       0.      ])"
      ]
     },
     "execution_count": 64,
     "metadata": {},
     "output_type": "execute_result"
    }
   ],
   "source": [
    "B"
   ]
  },
  {
   "cell_type": "code",
   "execution_count": 65,
   "id": "52c1f92f",
   "metadata": {},
   "outputs": [
    {
     "data": {
      "text/plain": [
       "26569"
      ]
     },
     "execution_count": 65,
     "metadata": {},
     "output_type": "execute_result"
    }
   ],
   "source": [
    "A.size"
   ]
  },
  {
   "cell_type": "code",
   "execution_count": 66,
   "id": "61962419",
   "metadata": {},
   "outputs": [
    {
     "data": {
      "text/plain": [
       "163"
      ]
     },
     "execution_count": 66,
     "metadata": {},
     "output_type": "execute_result"
    }
   ],
   "source": [
    "B.size"
   ]
  },
  {
   "cell_type": "code",
   "execution_count": 67,
   "id": "634f8241",
   "metadata": {},
   "outputs": [],
   "source": [
    "A = A.reshape((A.size//B.size, B.size))      # Reshape A to n x n matrix\n",
    "\n",
    "B = B.reshape((-1, 1))     # Make B a column vector\n"
   ]
  },
  {
   "cell_type": "code",
   "execution_count": 68,
   "id": "9c92f04a",
   "metadata": {},
   "outputs": [
    {
     "name": "stdout",
     "output_type": "stream",
     "text": [
      "4.484879448330329\n"
     ]
    }
   ],
   "source": [
    "eigenvalues = np.linalg.eigvals(A)\n",
    "# print(max(eigenvalues))\n",
    "spectral_radius = max(abs(eigenvalues))\n",
    "print(spectral_radius)"
   ]
  },
  {
   "cell_type": "code",
   "execution_count": 69,
   "id": "443c2b26",
   "metadata": {},
   "outputs": [
    {
     "data": {
      "text/plain": [
       "(163, 163)"
      ]
     },
     "execution_count": 69,
     "metadata": {},
     "output_type": "execute_result"
    }
   ],
   "source": [
    "A.shape"
   ]
  },
  {
   "cell_type": "code",
   "execution_count": 70,
   "id": "520b558b",
   "metadata": {},
   "outputs": [],
   "source": [
    "D = np.diag(np.diag(A))\n",
    "F = -(np.triu(A) - D)\n",
    "E = -(np.tril(A) - D)"
   ]
  },
  {
   "cell_type": "code",
   "execution_count": 71,
   "id": "5c260c57",
   "metadata": {},
   "outputs": [],
   "source": [
    "dum = D - E - F"
   ]
  },
  {
   "cell_type": "code",
   "execution_count": 72,
   "id": "0f157fc5",
   "metadata": {},
   "outputs": [
    {
     "data": {
      "text/plain": [
       "array([[ 1.      ,  0.      ,  0.      , ...,  0.      ,  0.      ,\n",
       "         0.      ],\n",
       "       [ 0.      ,  1.      ,  0.      , ...,  0.      ,  0.      ,\n",
       "         0.      ],\n",
       "       [ 0.      ,  0.      ,  1.      , ...,  0.      ,  0.      ,\n",
       "         0.      ],\n",
       "       ...,\n",
       "       [ 0.      ,  0.      ,  0.      , ...,  2.70054 ,  0.      ,\n",
       "         0.      ],\n",
       "       [ 0.      ,  0.      ,  0.      , ...,  0.      ,  2.687408,\n",
       "        -0.334753],\n",
       "       [ 0.      ,  0.      ,  0.      , ...,  0.      , -0.334753,\n",
       "         2.677458]], shape=(163, 163))"
      ]
     },
     "execution_count": 72,
     "metadata": {},
     "output_type": "execute_result"
    }
   ],
   "source": [
    "dum"
   ]
  },
  {
   "cell_type": "code",
   "execution_count": 73,
   "id": "653ccbe8",
   "metadata": {},
   "outputs": [],
   "source": [
    "x = np.array([0.0]*B.size).reshape((-1, 1))  # Initial guess (column vector)"
   ]
  },
  {
   "cell_type": "code",
   "execution_count": 74,
   "id": "a699b9c2",
   "metadata": {},
   "outputs": [],
   "source": [
    "# Jacobi Method\n",
    "def jacobi(A, B, x, D, max_iterations=1000, tolerance=1e-50):\n",
    "    # N = E + F\n",
    "    M = D\n",
    "    G = np.linalg.inv(M) @ (M - A)\n",
    "    f = np.linalg.inv(M) @ B\n",
    "\n",
    "    print(\"Spectral Radius (Jacobi):\", max(abs(np.linalg.eigvals(G))))\n",
    "    print(\"Convergence rate (Jacobi):\", -np.log10(max(abs(np.linalg.eigvals(G)))))\n",
    "    for iteration in range(max_iterations):\n",
    "        x_new = G @ x + f\n",
    "        # Check for convergence\n",
    "        if np.linalg.norm(x_new - x) < tolerance:\n",
    "            print(f\"Jacobi method converged in {iteration} iterations.\")\n",
    "            return x_new\n",
    "        x = x_new"
   ]
  },
  {
   "cell_type": "code",
   "execution_count": 75,
   "id": "c3e3794f",
   "metadata": {},
   "outputs": [
    {
     "name": "stdout",
     "output_type": "stream",
     "text": [
      "Spectral Radius (Jacobi): 0.9551658875648124\n",
      "Convergence rate (Jacobi): 0.01992119616750029\n",
      "Jacobi method converged in 782 iterations.\n",
      "Jacobi Solution:\n",
      " [[0.         0.         0.         0.         0.         0.\n",
      "  0.         0.         0.         0.         0.         0.\n",
      "  0.         0.         0.         0.         0.         0.\n",
      "  0.         0.         0.         0.         0.         0.\n",
      "  0.         0.         0.         0.         0.         0.\n",
      "  0.         0.         0.         0.         0.281732   0.54064\n",
      "  0.755749   0.909632   0.989821   0.989821   0.909632   0.755749\n",
      "  0.54064    0.281733   0.19386554 0.06583863 0.3100378  0.0758093\n",
      "  0.31066596 0.12010047 0.06419077 0.49024231 0.1245252  0.02760138\n",
      "  0.29482816 0.02899316 0.30264319 0.13569459 0.27447364 0.12345943\n",
      "  0.23461891 0.04214645 0.57508166 0.05831765 0.05969427 0.16684503\n",
      "  0.03994833 0.5328507  0.16381365 0.10009762 0.20517154 0.33392146\n",
      "  0.12176695 0.02925004 0.71276474 0.07637987 0.06497999 0.01790465\n",
      "  0.5751612  0.02230757 0.02587363 0.11537336 0.02416611 0.11566295\n",
      "  0.56635001 0.099882   0.39549934 0.07698166 0.19671159 0.00695439\n",
      "  0.20945082 0.00925927 0.21097395 0.13636402 0.1691094  0.23217961\n",
      "  0.42051813 0.03766501 0.40236885 0.04578366 0.22390054 0.04262527\n",
      "  0.22119782 0.05060503 0.42756729 0.19861667 0.26811322 0.06933319\n",
      "  0.09538995 0.02095318 0.74399324 0.07188975 0.06835166 0.02125813\n",
      "  0.04744648 0.75402767 0.03709118 0.10027728 0.27286678 0.26946871\n",
      "  0.15939811 0.0131549  0.40352006 0.01425333 0.0108215  0.15541357\n",
      "  0.01060998 0.15692337 0.40452939 0.0533947  0.63067641 0.12575145\n",
      "  0.11953548 0.08243061 0.03824485 0.54601054 0.09459501 0.10176836\n",
      "  0.15114587 0.35685071 0.09915941 0.01509303 0.68718882 0.08689733\n",
      "  0.08503084 0.02005717 0.75359854 0.03226858 0.02186105 0.21439669\n",
      "  0.05893716 0.21583972 0.46330846 0.15525794 0.11146478 0.22480301\n",
      "  0.16802929 0.12376978 0.1380911  0.27977493 0.07523997 0.16676704\n",
      "  0.23685891]]\n"
     ]
    }
   ],
   "source": [
    "jacobi_solution = jacobi(A, B, x, D)\n",
    "print(\"Jacobi Solution:\\n\", jacobi_solution.T)"
   ]
  },
  {
   "cell_type": "code",
   "execution_count": 76,
   "id": "d2ff996f",
   "metadata": {},
   "outputs": [],
   "source": [
    "# Gauss-Seidel Method\n",
    "def gauss_seidel(A, B, x, D, E, max_iterations=1000, tolerance=1e-50):\n",
    "    # N = E + F\n",
    "    M = D - E\n",
    "    G = np.linalg.inv(M) @ (M - A)\n",
    "    f = np.linalg.inv(M) @ B\n",
    "\n",
    "    print(\"Spectral Radius (Gauss-Seidel):\", max(abs(np.linalg.eigvals(G))))\n",
    "    print(\"Convergence rate (Gauss-Seidel):\", -np.log10(max(abs(np.linalg.eigvals(G)))))\n",
    "    for iteration in range(max_iterations):\n",
    "        x_new = G @ x + f\n",
    "        # Check for convergence\n",
    "        if np.linalg.norm(x_new - x) < tolerance:\n",
    "            print(f\"Gauss-Seidel method converged in {iteration} iterations.\")\n",
    "            return x_new\n",
    "        x = x_new"
   ]
  },
  {
   "cell_type": "code",
   "execution_count": 77,
   "id": "3fa0b566",
   "metadata": {},
   "outputs": [
    {
     "name": "stdout",
     "output_type": "stream",
     "text": [
      "Spectral Radius (Gauss-Seidel): 0.9127563485072119\n",
      "Convergence rate (Gauss-Seidel): 0.03964513771314365\n",
      "Gauss-Seidel method converged in 408 iterations.\n",
      "Gauss-Seidel Solution:\n",
      " [[0.         0.         0.         0.         0.         0.\n",
      "  0.         0.         0.         0.         0.         0.\n",
      "  0.         0.         0.         0.         0.         0.\n",
      "  0.         0.         0.         0.         0.         0.\n",
      "  0.         0.         0.         0.         0.         0.\n",
      "  0.         0.         0.         0.         0.281732   0.54064\n",
      "  0.755749   0.909632   0.989821   0.989821   0.909632   0.755749\n",
      "  0.54064    0.281733   0.19386554 0.06583863 0.3100378  0.0758093\n",
      "  0.31066596 0.12010047 0.06419077 0.49024231 0.1245252  0.02760138\n",
      "  0.29482816 0.02899316 0.30264319 0.13569459 0.27447364 0.12345943\n",
      "  0.23461891 0.04214645 0.57508166 0.05831765 0.05969427 0.16684503\n",
      "  0.03994833 0.5328507  0.16381365 0.10009762 0.20517154 0.33392146\n",
      "  0.12176695 0.02925004 0.71276474 0.07637987 0.06497999 0.01790465\n",
      "  0.5751612  0.02230757 0.02587363 0.11537336 0.02416611 0.11566295\n",
      "  0.56635001 0.099882   0.39549934 0.07698166 0.19671159 0.00695439\n",
      "  0.20945082 0.00925927 0.21097395 0.13636402 0.1691094  0.23217961\n",
      "  0.42051813 0.03766501 0.40236885 0.04578366 0.22390054 0.04262527\n",
      "  0.22119782 0.05060503 0.42756729 0.19861667 0.26811322 0.06933319\n",
      "  0.09538995 0.02095318 0.74399324 0.07188975 0.06835166 0.02125813\n",
      "  0.04744648 0.75402767 0.03709118 0.10027728 0.27286678 0.26946871\n",
      "  0.15939811 0.0131549  0.40352006 0.01425333 0.0108215  0.15541357\n",
      "  0.01060998 0.15692337 0.40452939 0.0533947  0.63067641 0.12575145\n",
      "  0.11953548 0.08243061 0.03824485 0.54601054 0.09459501 0.10176836\n",
      "  0.15114587 0.35685071 0.09915941 0.01509303 0.68718882 0.08689733\n",
      "  0.08503084 0.02005717 0.75359854 0.03226858 0.02186105 0.21439669\n",
      "  0.05893716 0.21583972 0.46330846 0.15525794 0.11146478 0.22480301\n",
      "  0.16802929 0.12376978 0.1380911  0.27977493 0.07523997 0.16676704\n",
      "  0.23685891]]\n"
     ]
    }
   ],
   "source": [
    "gs_solution = gauss_seidel(A, B, x, D, E)\n",
    "print(\"Gauss-Seidel Solution:\\n\", gs_solution.T)"
   ]
  },
  {
   "cell_type": "code",
   "execution_count": 78,
   "id": "53c40954",
   "metadata": {},
   "outputs": [
    {
     "data": {
      "text/plain": [
       "np.float64(8.959357099236678e-16)"
      ]
     },
     "execution_count": 78,
     "metadata": {},
     "output_type": "execute_result"
    }
   ],
   "source": [
    "np.linalg.norm(A @ gs_solution - B)  # Check if Ax = B"
   ]
  },
  {
   "cell_type": "code",
   "execution_count": 79,
   "id": "77d3640f",
   "metadata": {},
   "outputs": [
    {
     "data": {
      "text/plain": [
       "np.float64(1.1424513686557992e-15)"
      ]
     },
     "execution_count": 79,
     "metadata": {},
     "output_type": "execute_result"
    }
   ],
   "source": [
    "np.linalg.norm(A @ jacobi_solution - B)  # Check if Ax = B"
   ]
  },
  {
   "cell_type": "code",
   "execution_count": 89,
   "id": "ca690f4a",
   "metadata": {},
   "outputs": [],
   "source": [
    "def SOR(A, B, x, D, E, omega=1.25, max_iterations=1000, tolerance=1e-50):\n",
    "    M = (1/omega)*D - E\n",
    "    G = np.linalg.inv(M) @ (M - A)\n",
    "    f = np.linalg.inv(M) @ B\n",
    "\n",
    "    print(\"Spectral Radius (SOR):\", max(abs(np.linalg.eigvals(G))))\n",
    "    print(\"Convergence rate (SOR):\", -np.log10(max(abs(np.linalg.eigvals(G)))))\n",
    "    for iteration in range(max_iterations):\n",
    "        x_new = G @ x + f\n",
    "        # Check for convergence\n",
    "        if np.linalg.norm(x_new - x) < tolerance:\n",
    "            print(f\"SOR method converged in {iteration} iterations.\")\n",
    "            return x_new\n",
    "        x = x_new"
   ]
  },
  {
   "cell_type": "code",
   "execution_count": 86,
   "id": "4e3b693c",
   "metadata": {},
   "outputs": [],
   "source": [
    "# sor_solution = SOR(A, B, x, D, E,omega=1.9)\n",
    "# print(\"SOR Solution:\\n\", sor_solution.T)"
   ]
  },
  {
   "cell_type": "code",
   "execution_count": 82,
   "id": "721051a7",
   "metadata": {},
   "outputs": [],
   "source": [
    "w = [1.1,1.3,1.6,1.9]"
   ]
  },
  {
   "cell_type": "code",
   "execution_count": 83,
   "id": "56809423",
   "metadata": {},
   "outputs": [
    {
     "name": "stdout",
     "output_type": "stream",
     "text": [
      "Omega: 1.1\n"
     ]
    },
    {
     "name": "stdout",
     "output_type": "stream",
     "text": [
      "Spectral Radius (SOR): 0.8935049625613205\n",
      "Convergence rate (SOR): 0.04890303106319144\n",
      "\n",
      "\n",
      "Omega: 1.3\n",
      "Spectral Radius (SOR): 0.8369930459979615\n",
      "Convergence rate (SOR): 0.077278150247192\n",
      "\n",
      "\n",
      "Omega: 1.6\n",
      "Spectral Radius (SOR): 0.6308685033297887\n",
      "Convergence rate (SOR): 0.2000611545904173\n",
      "\n",
      "\n",
      "Omega: 1.9\n",
      "Spectral Radius (SOR): 0.9085456085778375\n",
      "Convergence rate (SOR): 0.04165326642253043\n",
      "\n",
      "\n"
     ]
    }
   ],
   "source": [
    "for i in w:\n",
    "    print(f\"Omega: {i}\")\n",
    "    sor_solution = SOR(A, B, x, D, E,omega=i)\n",
    "    # print(\"SOR Solution:\\n\", sor_solution.T)\n",
    "    print(\"\\n\")"
   ]
  },
  {
   "cell_type": "code",
   "execution_count": 84,
   "id": "c9767987",
   "metadata": {},
   "outputs": [],
   "source": [
    "#plotting omega vs convergence rate\n",
    "omega_values = []\n",
    "convergence_rates = []\n",
    "w = np.arange(1.0, 2.0, 0.02)\n",
    "for i in w:\n",
    "    M = (1/i)*D - E\n",
    "    G = np.linalg.inv(M) @ (M - A)\n",
    "    rho = max(abs(np.linalg.eigvals(G)))\n",
    "    omega_values.append(i)\n",
    "    convergence_rates.append(-np.log10(rho))\n"
   ]
  },
  {
   "cell_type": "code",
   "execution_count": 85,
   "id": "9d12f51c",
   "metadata": {},
   "outputs": [
    {
     "data": {
      "image/png": "[encoded data removed]",
      "text/plain": [
       "<Figure size 1000x600 with 1 Axes>"
      ]
     },
     "metadata": {},
     "output_type": "display_data"
    },
    {
     "data": {
      "text/plain": [
       "<Figure size 640x480 with 0 Axes>"
      ]
     },
     "metadata": {},
     "output_type": "display_data"
    }
   ],
   "source": [
    "import matplotlib.pyplot as plt\n",
    "figsize = (10, 6)\n",
    "plt.figure(figsize=figsize)\n",
    "plt.plot(omega_values, convergence_rates, marker='o')\n",
    "plt.title('Omega vs Convergence Rate for SOR Method')\n",
    "plt.xlabel('Omega (ω)')\n",
    "plt.ylabel('Convergence Rate (-log10(ρ))')\n",
    "plt.grid()\n",
    "plt.show()\n",
    "plt.savefig('omega_vs_convergence_rate.png')"
   ]
  },
  {
   "cell_type": "code",
   "execution_count": null,
   "id": "3bdc48e7",
   "metadata": {},
   "outputs": [],
   "source": []
  }
 ],
 "metadata": {
  "kernelspec": {
   "display_name": "IRL_AGV",
   "language": "python",
   "name": "python3"
  },
  "language_info": {
   "codemirror_mode": {
    "name": "ipython",
    "version": 3
   },
   "file_extension": ".py",
   "mimetype": "text/x-python",
   "name": "python",
   "nbconvert_exporter": "python",
   "pygments_lexer": "ipython3",
   "version": "3.10.16"
  }
 },
 "nbformat": 4,
 "nbformat_minor": 5
}
