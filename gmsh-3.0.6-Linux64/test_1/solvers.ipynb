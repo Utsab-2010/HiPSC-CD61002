{
 "cells": [
  {
   "cell_type": "code",
   "execution_count": 1,
   "id": "0b6e2a89",
   "metadata": {},
   "outputs": [],
   "source": [
    "import numpy as np\n",
    "\n",
    "# Read A and B from text files\n",
    "A = np.loadtxt('Kmat.txt')  # Each element in a new line\n",
    "B = np.loadtxt('Fvec.txt')  # Each element in a new line\n"
   ]
  },
  {
   "cell_type": "code",
   "execution_count": 2,
   "id": "fd43a9de",
   "metadata": {},
   "outputs": [
    {
     "data": {
      "text/plain": [
       "array([0.      , 0.      , 0.      , 0.      , 0.      , 0.      ,\n",
       "       0.      , 0.      , 0.      , 0.      , 0.      , 0.      ,\n",
       "       0.      , 0.      , 0.      , 0.      , 0.      , 0.      ,\n",
       "       0.      , 0.500001, 0.866025, 1.      , 0.866025, 0.500001,\n",
       "       0.      , 0.      , 0.      , 0.      , 0.      , 0.      ,\n",
       "       0.      , 0.      , 0.      , 0.      , 0.      , 0.      ,\n",
       "       0.      , 0.      , 0.      , 0.      , 0.      , 0.      ,\n",
       "       0.      , 0.      , 0.      , 0.      , 0.      , 0.      ,\n",
       "       0.      , 0.      , 0.      , 0.      , 0.      , 0.      ,\n",
       "       0.      , 0.      , 0.      , 0.      , 0.      , 0.      ,\n",
       "       0.      , 0.      ])"
      ]
     },
     "execution_count": 2,
     "metadata": {},
     "output_type": "execute_result"
    }
   ],
   "source": [
    "B"
   ]
  },
  {
   "cell_type": "code",
   "execution_count": 3,
   "id": "52c1f92f",
   "metadata": {},
   "outputs": [
    {
     "data": {
      "text/plain": [
       "3844"
      ]
     },
     "execution_count": 3,
     "metadata": {},
     "output_type": "execute_result"
    }
   ],
   "source": [
    "A.size"
   ]
  },
  {
   "cell_type": "code",
   "execution_count": 4,
   "id": "61962419",
   "metadata": {},
   "outputs": [
    {
     "data": {
      "text/plain": [
       "62"
      ]
     },
     "execution_count": 4,
     "metadata": {},
     "output_type": "execute_result"
    }
   ],
   "source": [
    "B.size"
   ]
  },
  {
   "cell_type": "code",
   "execution_count": 7,
   "id": "634f8241",
   "metadata": {},
   "outputs": [],
   "source": [
    "A = A.reshape((A.size//B.size, B.size))      # Reshape A to n x n matrix\n",
    "\n",
    "B = B.reshape((-1, 1))     # Make B a column vector\n"
   ]
  },
  {
   "cell_type": "code",
   "execution_count": 8,
   "id": "9c92f04a",
   "metadata": {},
   "outputs": [
    {
     "name": "stdout",
     "output_type": "stream",
     "text": [
      "4.252045975773448\n"
     ]
    }
   ],
   "source": [
    "eigenvalues = np.linalg.eigvals(A)\n",
    "# print(max(eigenvalues))\n",
    "spectral_radius = max(abs(eigenvalues))\n",
    "print(spectral_radius)"
   ]
  },
  {
   "cell_type": "code",
   "execution_count": 32,
   "id": "443c2b26",
   "metadata": {},
   "outputs": [
    {
     "data": {
      "text/plain": [
       "(62, 62)"
      ]
     },
     "execution_count": 32,
     "metadata": {},
     "output_type": "execute_result"
    }
   ],
   "source": [
    "A.shape"
   ]
  },
  {
   "cell_type": "code",
   "execution_count": 33,
   "id": "520b558b",
   "metadata": {},
   "outputs": [],
   "source": [
    "D = np.diag(np.diag(A))\n",
    "F = -(np.triu(A) - D)\n",
    "E = -(np.tril(A) - D)"
   ]
  },
  {
   "cell_type": "code",
   "execution_count": 34,
   "id": "5c260c57",
   "metadata": {},
   "outputs": [],
   "source": [
    "dum = D - E - F"
   ]
  },
  {
   "cell_type": "code",
   "execution_count": 35,
   "id": "0f157fc5",
   "metadata": {},
   "outputs": [
    {
     "data": {
      "text/plain": [
       "array([[ 1.      ,  0.      ,  0.      , ...,  0.      ,  0.      ,\n",
       "         0.      ],\n",
       "       [ 0.      ,  1.      ,  0.      , ...,  0.      ,  0.      ,\n",
       "         0.      ],\n",
       "       [ 0.      ,  0.      ,  1.      , ...,  0.      ,  0.      ,\n",
       "         0.      ],\n",
       "       ...,\n",
       "       [ 0.      ,  0.      ,  0.      , ...,  2.71086 ,  0.      ,\n",
       "         0.      ],\n",
       "       [ 0.      , -0.575042,  0.      , ...,  0.      ,  2.99681 ,\n",
       "         0.      ],\n",
       "       [ 0.      ,  0.      ,  0.      , ...,  0.      ,  0.      ,\n",
       "         2.97985 ]], shape=(62, 62))"
      ]
     },
     "execution_count": 35,
     "metadata": {},
     "output_type": "execute_result"
    }
   ],
   "source": [
    "dum"
   ]
  },
  {
   "cell_type": "code",
   "execution_count": 36,
   "id": "653ccbe8",
   "metadata": {},
   "outputs": [],
   "source": [
    "x = np.array([0.0]*B.size).reshape((-1, 1))  # Initial guess (column vector)"
   ]
  },
  {
   "cell_type": "code",
   "execution_count": 37,
   "id": "a699b9c2",
   "metadata": {},
   "outputs": [],
   "source": [
    "# Jacobi Method\n",
    "def jacobi(A, B, x, D, max_iterations=1000, tolerance=1e-6):\n",
    "    # N = E + F\n",
    "    M = D\n",
    "    G = np.linalg.inv(M) @ (M - A)\n",
    "    f = np.linalg.inv(M) @ B\n",
    "\n",
    "    print(\"Spectral Radius (Jacobi):\", max(abs(np.linalg.eigvals(G))))\n",
    "\n",
    "    for iteration in range(max_iterations):\n",
    "        x_new = G @ x + f\n",
    "        # Check for convergence\n",
    "        if np.linalg.norm(x_new - x) < tolerance:\n",
    "            print(f\"Jacobi method converged in {iteration} iterations.\")\n",
    "            return x_new\n",
    "        x = x_new"
   ]
  },
  {
   "cell_type": "code",
   "execution_count": 38,
   "id": "c3e3794f",
   "metadata": {},
   "outputs": [
    {
     "name": "stdout",
     "output_type": "stream",
     "text": [
      "Spectral Radius (Jacobi): 0.8422313035529982\n",
      "Jacobi method converged in 72 iterations.\n",
      "Jacobi Solution:\n",
      " [[0.         0.         0.         0.         0.         0.\n",
      "  0.         0.         0.         0.         0.         0.\n",
      "  0.         0.         0.         0.         0.         0.\n",
      "  0.         0.500001   0.866025   1.         0.866025   0.500001\n",
      "  0.20990006 0.06968253 0.2832587  0.04884884 0.27299099 0.03932759\n",
      "  0.48442791 0.08452664 0.13226738 0.0247111  0.29956428 0.02096919\n",
      "  0.28231568 0.09381504 0.15397022 0.35342334 0.14585227 0.03109414\n",
      "  0.54897225 0.04349199 0.07819027 0.13117379 0.0350645  0.1196504\n",
      "  0.48501452 0.08164383 0.33106209 0.2160897  0.02028699 0.16199322\n",
      "  0.46596366 0.02760617 0.02235592 0.5507506  0.10526787 0.02649414\n",
      "  0.011592   0.23446484]]\n"
     ]
    }
   ],
   "source": [
    "jacobi_solution = jacobi(A, B, x, D)\n",
    "print(\"Jacobi Solution:\\n\", jacobi_solution.T)"
   ]
  },
  {
   "cell_type": "code",
   "execution_count": 43,
   "id": "d2ff996f",
   "metadata": {},
   "outputs": [],
   "source": [
    "# Gauss-Seidel Method\n",
    "def gauss_seidel(A, B, x, D, E, max_iterations=1000, tolerance=1e-6):\n",
    "    # N = E + F\n",
    "    M = D - E\n",
    "    G = np.linalg.inv(M) @ (M - A)\n",
    "    f = np.linalg.inv(M) @ B\n",
    "\n",
    "    print(\"Spectral Radius (Gauss-Seidel):\", max(abs(np.linalg.eigvals(G))))\n",
    "    \n",
    "    for iteration in range(max_iterations):\n",
    "        x_new = G @ x + f\n",
    "        # Check for convergence\n",
    "        if np.linalg.norm(x_new - x) < tolerance:\n",
    "            print(f\"Gauss-Seidel method converged in {iteration} iterations.\")\n",
    "            return x_new\n",
    "        x = x_new"
   ]
  },
  {
   "cell_type": "code",
   "execution_count": 44,
   "id": "3fa0b566",
   "metadata": {},
   "outputs": [
    {
     "name": "stdout",
     "output_type": "stream",
     "text": [
      "Spectral Radius (Gauss-Seidel): 0.7136197056064093\n",
      "Gauss-Seidel method converged in 38 iterations.\n",
      "Gauss-Seidel Solution:\n",
      " [[0.         0.         0.         0.         0.         0.\n",
      "  0.         0.         0.         0.         0.         0.\n",
      "  0.         0.         0.         0.         0.         0.\n",
      "  0.         0.500001   0.866025   1.         0.866025   0.500001\n",
      "  0.20990061 0.06968287 0.28325913 0.04884917 0.2729914  0.03932784\n",
      "  0.48442836 0.08452691 0.13226784 0.0247113  0.29956454 0.02096937\n",
      "  0.28231589 0.09381552 0.15397075 0.35342395 0.14585291 0.0310944\n",
      "  0.54897262 0.04349225 0.07819069 0.13117408 0.0350648  0.1196508\n",
      "  0.48501498 0.08164439 0.33106279 0.21609039 0.0202872  0.16199347\n",
      "  0.46596392 0.02760645 0.02235612 0.55075089 0.10526814 0.02649437\n",
      "  0.01159214 0.23446501]]\n"
     ]
    }
   ],
   "source": [
    "gs_solution = gauss_seidel(A, B, x, D, E)\n",
    "print(\"Gauss-Seidel Solution:\\n\", gs_solution.T)"
   ]
  },
  {
   "cell_type": "code",
   "execution_count": 45,
   "id": "53c40954",
   "metadata": {},
   "outputs": [
    {
     "data": {
      "text/plain": [
       "np.float64(1.3656760223241067e-06)"
      ]
     },
     "execution_count": 45,
     "metadata": {},
     "output_type": "execute_result"
    }
   ],
   "source": [
    "np.linalg.norm(A @ gs_solution - B)  # Check if Ax = B"
   ]
  },
  {
   "cell_type": "code",
   "execution_count": 46,
   "id": "77d3640f",
   "metadata": {},
   "outputs": [
    {
     "data": {
      "text/plain": [
       "np.float64(2.1681573235435166e-06)"
      ]
     },
     "execution_count": 46,
     "metadata": {},
     "output_type": "execute_result"
    }
   ],
   "source": [
    "np.linalg.norm(A @ jacobi_solution - B)  # Check if Ax = B"
   ]
  },
  {
   "cell_type": "code",
   "execution_count": 47,
   "id": "ca690f4a",
   "metadata": {},
   "outputs": [],
   "source": [
    "def SOR(A, B, x, D, E, omega=1.25, max_iterations=1000, tolerance=1e-6):\n",
    "    M = (1/omega)*D - E\n",
    "    G = np.linalg.inv(M) @ (M - A)\n",
    "    f = np.linalg.inv(M) @ B\n",
    "\n",
    "    print(\"Spectral Radius (SOR):\", max(abs(np.linalg.eigvals(G))))\n",
    "    \n",
    "    for iteration in range(max_iterations):\n",
    "        x_new = G @ x + f\n",
    "        # Check for convergence\n",
    "        if np.linalg.norm(x_new - x) < tolerance:\n",
    "            print(f\"SOR method converged in {iteration} iterations.\")\n",
    "            return x_new\n",
    "        x = x_new"
   ]
  },
  {
   "cell_type": "code",
   "execution_count": 51,
   "id": "4e3b693c",
   "metadata": {},
   "outputs": [
    {
     "name": "stdout",
     "output_type": "stream",
     "text": [
      "Spectral Radius (SOR): 0.9818956192878733\n",
      "SOR method converged in 873 iterations.\n",
      "SOR Solution:\n",
      " [[ 0.00000000e+00  4.88878179e-19  0.00000000e+00 -1.51991109e-16\n",
      "   0.00000000e+00  4.03533985e-18  0.00000000e+00 -3.61111956e-18\n",
      "   0.00000000e+00 -1.30162142e-17  0.00000000e+00  0.00000000e+00\n",
      "   3.38943037e-17  0.00000000e+00  0.00000000e+00 -2.96121271e-18\n",
      "   0.00000000e+00  5.71939673e-17  0.00000000e+00  5.00000989e-01\n",
      "   8.66024981e-01  9.99999979e-01  8.66024981e-01  5.00000989e-01\n",
      "   2.09901380e-01  6.96833624e-02  2.83259776e-01  4.88494758e-02\n",
      "   2.72991982e-01  3.93280964e-02  4.84428885e-01  8.45272485e-02\n",
      "   1.32268571e-01  2.47115449e-02  2.99564827e-01  2.09695553e-02\n",
      "   2.82316111e-01  9.38160846e-02  1.53971334e-01  3.53424475e-01\n",
      "   1.45853438e-01  3.10946155e-02  5.48973023e-01  4.34924547e-02\n",
      "   7.81911813e-02  1.31174321e-01  3.50651915e-02  1.19651174e-01\n",
      "   4.85015419e-01  8.16448338e-02  3.31063405e-01  2.16090958e-01\n",
      "   2.02872852e-02  1.61993770e-01  4.65964018e-01  2.76065592e-02\n",
      "   2.23563800e-02  5.50750925e-01  1.05268564e-01  2.64945812e-02\n",
      "   1.15922703e-02  2.34465176e-01]]\n"
     ]
    }
   ],
   "source": [
    "sor_solution = SOR(A, B, x, D, E,omega=1.98)\n",
    "print(\"SOR Solution:\\n\", sor_solution.T)"
   ]
  },
  {
   "cell_type": "code",
   "execution_count": null,
   "id": "721051a7",
   "metadata": {},
   "outputs": [],
   "source": []
  },
  {
   "cell_type": "code",
   "execution_count": null,
   "id": "56809423",
   "metadata": {},
   "outputs": [],
   "source": []
  },
  {
   "cell_type": "code",
   "execution_count": null,
   "id": "c9767987",
   "metadata": {},
   "outputs": [],
   "source": []
  },
  {
   "cell_type": "code",
   "execution_count": null,
   "id": "3bdc48e7",
   "metadata": {},
   "outputs": [],
   "source": []
  }
 ],
 "metadata": {
  "kernelspec": {
   "display_name": "IRL_AGV",
   "language": "python",
   "name": "python3"
  },
  "language_info": {
   "codemirror_mode": {
    "name": "ipython",
    "version": 3
   },
   "file_extension": ".py",
   "mimetype": "text/x-python",
   "name": "python",
   "nbconvert_exporter": "python",
   "pygments_lexer": "ipython3",
   "version": "3.10.16"
  }
 },
 "nbformat": 4,
 "nbformat_minor": 5
}
